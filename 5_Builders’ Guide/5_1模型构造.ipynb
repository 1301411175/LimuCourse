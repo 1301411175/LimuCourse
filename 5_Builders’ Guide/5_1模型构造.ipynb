{
 "cells": [
  {
   "cell_type": "markdown",
   "metadata": {},
   "source": [
    "## 层和块"
   ]
  },
  {
   "cell_type": "markdown",
   "metadata": {},
   "source": [
    "首先，我们回顾一下多层感知机。         \n",
    "`nn.Sequential`定义了一种特殊的`Module`"
   ]
  },
  {
   "cell_type": "code",
   "execution_count": 2,
   "metadata": {},
   "outputs": [
    {
     "data": {
      "text/plain": [
       "(tensor([[0.3337, 0.5397, 0.6030, 0.8399, 0.8788, 0.8739, 0.6320, 0.9920, 0.2517,\n",
       "          0.9035, 0.7948, 0.3945, 0.1251, 0.2599, 0.6125, 0.7194, 0.1190, 0.2618,\n",
       "          0.7337, 0.0164],\n",
       "         [0.7650, 0.5834, 0.2120, 0.3973, 0.7448, 0.4648, 0.7952, 0.3207, 0.2210,\n",
       "          0.4384, 0.1046, 0.5864, 0.0386, 0.4650, 0.3971, 0.0726, 0.4618, 0.0722,\n",
       "          0.8256, 0.7310]]),\n",
       " tensor([[-0.0076, -0.2468,  0.0593,  0.0323, -0.2686, -0.1990,  0.2100, -0.3896,\n",
       "          -0.0579, -0.0567],\n",
       "         [ 0.0399, -0.3251,  0.0580, -0.0427, -0.2352, -0.2418,  0.1156, -0.2063,\n",
       "          -0.1624, -0.0679]], grad_fn=<AddmmBackward0>))"
      ]
     },
     "execution_count": 2,
     "metadata": {},
     "output_type": "execute_result"
    }
   ],
   "source": [
    "import torch\n",
    "from torch import nn\n",
    "from torch.nn import functional as F\n",
    "\n",
    "net = nn.Sequential(nn.Linear(20, 256), nn.ReLU(), nn.Linear(256, 10))\n",
    "\n",
    "X = torch.rand(2, 20)\n",
    "X, net(X)"
   ]
  },
  {
   "cell_type": "markdown",
   "metadata": {},
   "source": [
    "自定义块"
   ]
  },
  {
   "cell_type": "code",
   "execution_count": null,
   "metadata": {},
   "outputs": [],
   "source": [
    "class MLP(nn.Module):\n",
    "    def __init__(self):\n",
    "        super().__init__()\n",
    "        self.hidden = nn.Linear(20, 256)\n",
    "        self.out = nn.Linear(256, 10)\n",
    "\n",
    "    def forward(self, X):\n",
    "        return self.out(F.relu(self.hidden(X)))"
   ]
  }
 ],
 "metadata": {
  "kernelspec": {
   "display_name": "Python 3.10.6 ('pytorch')",
   "language": "python",
   "name": "python3"
  },
  "language_info": {
   "codemirror_mode": {
    "name": "ipython",
    "version": 3
   },
   "file_extension": ".py",
   "mimetype": "text/x-python",
   "name": "python",
   "nbconvert_exporter": "python",
   "pygments_lexer": "ipython3",
   "version": "3.10.6"
  },
  "orig_nbformat": 4,
  "vscode": {
   "interpreter": {
    "hash": "7a934d2d03b85ef932848c4d2ee0154df946ef0a94b3a38055cf6cd3d15e3ba5"
   }
  }
 },
 "nbformat": 4,
 "nbformat_minor": 2
}
